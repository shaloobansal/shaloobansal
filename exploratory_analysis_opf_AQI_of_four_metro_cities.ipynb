{
  "nbformat": 4,
  "nbformat_minor": 0,
  "metadata": {
    "kernelspec": {
      "display_name": "Python 3 (ipykernel)",
      "language": "python",
      "name": "python3"
    },
    "language_info": {
      "codemirror_mode": {
        "name": "ipython",
        "version": 3
      },
      "file_extension": ".py",
      "mimetype": "text/x-python",
      "name": "python",
      "nbconvert_exporter": "python",
      "pygments_lexer": "ipython3",
      "version": "3.9.6"
    },
    "colab": {
      "name": "exploratory analysis opf AQI of four metro cities.ipynb",
      "provenance": [],
      "collapsed_sections": [],
      "toc_visible": true,
      "include_colab_link": true
    }
  },
  "cells": [
    {
      "cell_type": "markdown",
      "metadata": {
        "id": "view-in-github",
        "colab_type": "text"
      },
      "source": [
        "<a href=\"https://colab.research.google.com/github/shaloobansal/shaloobansal/blob/main/exploratory_analysis_opf_AQI_of_four_metro_cities.ipynb\" target=\"_parent\"><img src=\"https://colab.research.google.com/assets/colab-badge.svg\" alt=\"Open In Colab\"/></a>"
      ]
    },
    {
      "cell_type": "code",
      "metadata": {
        "id": "fvbXQC7dEwz5"
      },
      "source": [
        "import pandas as pd\n"
      ],
      "execution_count": null,
      "outputs": []
    },
    {
      "cell_type": "code",
      "metadata": {
        "id": "cAdHV8vjEwz7"
      },
      "source": [
        "import seaborn as sns\n",
        "import matplotlib\n",
        "import matplotlib.pyplot as plt\n",
        "%matplotlib inline"
      ],
      "execution_count": null,
      "outputs": []
    },
    {
      "cell_type": "code",
      "metadata": {
        "id": "KzmObh4JEwz8"
      },
      "source": [
        "city_aqi_year= pd.read_csv('Year_analysis.csv')"
      ],
      "execution_count": null,
      "outputs": []
    },
    {
      "cell_type": "code",
      "metadata": {
        "id": "nn3sd_LREwz8",
        "outputId": "e60e4846-ff68-44d5-d8b5-e06a70f044c8"
      },
      "source": [
        "city_aqi_year"
      ],
      "execution_count": null,
      "outputs": [
        {
          "data": {
            "text/html": [
              "<div>\n",
              "<style scoped>\n",
              "    .dataframe tbody tr th:only-of-type {\n",
              "        vertical-align: middle;\n",
              "    }\n",
              "\n",
              "    .dataframe tbody tr th {\n",
              "        vertical-align: top;\n",
              "    }\n",
              "\n",
              "    .dataframe thead th {\n",
              "        text-align: right;\n",
              "    }\n",
              "</style>\n",
              "<table border=\"1\" class=\"dataframe\">\n",
              "  <thead>\n",
              "    <tr style=\"text-align: right;\">\n",
              "      <th></th>\n",
              "      <th>City</th>\n",
              "      <th>Date</th>\n",
              "      <th>0</th>\n",
              "      <th>PM10</th>\n",
              "      <th>NO</th>\n",
              "      <th>NO2</th>\n",
              "      <th>NOx</th>\n",
              "      <th>NH3</th>\n",
              "      <th>CO</th>\n",
              "      <th>SO2</th>\n",
              "      <th>O3</th>\n",
              "      <th>Benzene</th>\n",
              "      <th>Toluene</th>\n",
              "      <th>Xylene</th>\n",
              "      <th>AQI</th>\n",
              "      <th>AQI_Bucket</th>\n",
              "    </tr>\n",
              "  </thead>\n",
              "  <tbody>\n",
              "    <tr>\n",
              "      <th>0</th>\n",
              "      <td>Delhi</td>\n",
              "      <td>01-01-18</td>\n",
              "      <td>303.41</td>\n",
              "      <td>415.09</td>\n",
              "      <td>62.76</td>\n",
              "      <td>63.92</td>\n",
              "      <td>11.79</td>\n",
              "      <td>73.16</td>\n",
              "      <td>1.80</td>\n",
              "      <td>18.58</td>\n",
              "      <td>68.75</td>\n",
              "      <td>5.72</td>\n",
              "      <td>14.77</td>\n",
              "      <td>0.24</td>\n",
              "      <td>462.0</td>\n",
              "      <td>Severe</td>\n",
              "    </tr>\n",
              "    <tr>\n",
              "      <th>1</th>\n",
              "      <td>Delhi</td>\n",
              "      <td>02-01-18</td>\n",
              "      <td>277.48</td>\n",
              "      <td>422.59</td>\n",
              "      <td>31.26</td>\n",
              "      <td>53.73</td>\n",
              "      <td>4.26</td>\n",
              "      <td>55.61</td>\n",
              "      <td>1.52</td>\n",
              "      <td>12.43</td>\n",
              "      <td>68.68</td>\n",
              "      <td>3.98</td>\n",
              "      <td>9.71</td>\n",
              "      <td>0.27</td>\n",
              "      <td>439.0</td>\n",
              "      <td>Severe</td>\n",
              "    </tr>\n",
              "    <tr>\n",
              "      <th>2</th>\n",
              "      <td>Delhi</td>\n",
              "      <td>03-01-18</td>\n",
              "      <td>217.01</td>\n",
              "      <td>336.87</td>\n",
              "      <td>37.98</td>\n",
              "      <td>52.24</td>\n",
              "      <td>2.87</td>\n",
              "      <td>50.81</td>\n",
              "      <td>1.29</td>\n",
              "      <td>10.28</td>\n",
              "      <td>54.94</td>\n",
              "      <td>3.09</td>\n",
              "      <td>6.60</td>\n",
              "      <td>0.21</td>\n",
              "      <td>405.0</td>\n",
              "      <td>Severe</td>\n",
              "    </tr>\n",
              "    <tr>\n",
              "      <th>3</th>\n",
              "      <td>Delhi</td>\n",
              "      <td>04-01-18</td>\n",
              "      <td>248.54</td>\n",
              "      <td>377.61</td>\n",
              "      <td>35.56</td>\n",
              "      <td>61.57</td>\n",
              "      <td>4.24</td>\n",
              "      <td>55.17</td>\n",
              "      <td>1.36</td>\n",
              "      <td>14.42</td>\n",
              "      <td>66.31</td>\n",
              "      <td>3.79</td>\n",
              "      <td>8.20</td>\n",
              "      <td>0.39</td>\n",
              "      <td>394.0</td>\n",
              "      <td>Very Poor</td>\n",
              "    </tr>\n",
              "    <tr>\n",
              "      <th>4</th>\n",
              "      <td>Delhi</td>\n",
              "      <td>05-01-18</td>\n",
              "      <td>240.42</td>\n",
              "      <td>360.99</td>\n",
              "      <td>38.73</td>\n",
              "      <td>54.80</td>\n",
              "      <td>4.57</td>\n",
              "      <td>51.36</td>\n",
              "      <td>1.38</td>\n",
              "      <td>13.20</td>\n",
              "      <td>48.57</td>\n",
              "      <td>3.63</td>\n",
              "      <td>8.14</td>\n",
              "      <td>0.26</td>\n",
              "      <td>398.0</td>\n",
              "      <td>Very Poor</td>\n",
              "    </tr>\n",
              "    <tr>\n",
              "      <th>...</th>\n",
              "      <td>...</td>\n",
              "      <td>...</td>\n",
              "      <td>...</td>\n",
              "      <td>...</td>\n",
              "      <td>...</td>\n",
              "      <td>...</td>\n",
              "      <td>...</td>\n",
              "      <td>...</td>\n",
              "      <td>...</td>\n",
              "      <td>...</td>\n",
              "      <td>...</td>\n",
              "      <td>...</td>\n",
              "      <td>...</td>\n",
              "      <td>...</td>\n",
              "      <td>...</td>\n",
              "      <td>...</td>\n",
              "    </tr>\n",
              "    <tr>\n",
              "      <th>3548</th>\n",
              "      <td>Mumbai</td>\n",
              "      <td>27-06-20</td>\n",
              "      <td>18.04</td>\n",
              "      <td>63.72</td>\n",
              "      <td>28.29</td>\n",
              "      <td>8.58</td>\n",
              "      <td>36.07</td>\n",
              "      <td>26.69</td>\n",
              "      <td>0.43</td>\n",
              "      <td>10.36</td>\n",
              "      <td>5.68</td>\n",
              "      <td>0.82</td>\n",
              "      <td>NaN</td>\n",
              "      <td>NaN</td>\n",
              "      <td>64.0</td>\n",
              "      <td>Satisfactory</td>\n",
              "    </tr>\n",
              "    <tr>\n",
              "      <th>3549</th>\n",
              "      <td>Mumbai</td>\n",
              "      <td>28-06-20</td>\n",
              "      <td>12.33</td>\n",
              "      <td>44.84</td>\n",
              "      <td>27.15</td>\n",
              "      <td>8.06</td>\n",
              "      <td>34.78</td>\n",
              "      <td>26.50</td>\n",
              "      <td>0.38</td>\n",
              "      <td>10.58</td>\n",
              "      <td>5.76</td>\n",
              "      <td>0.85</td>\n",
              "      <td>NaN</td>\n",
              "      <td>NaN</td>\n",
              "      <td>64.0</td>\n",
              "      <td>Satisfactory</td>\n",
              "    </tr>\n",
              "    <tr>\n",
              "      <th>3550</th>\n",
              "      <td>Mumbai</td>\n",
              "      <td>29-06-20</td>\n",
              "      <td>7.88</td>\n",
              "      <td>27.51</td>\n",
              "      <td>26.58</td>\n",
              "      <td>7.94</td>\n",
              "      <td>34.42</td>\n",
              "      <td>23.94</td>\n",
              "      <td>0.38</td>\n",
              "      <td>11.11</td>\n",
              "      <td>5.84</td>\n",
              "      <td>0.47</td>\n",
              "      <td>NaN</td>\n",
              "      <td>NaN</td>\n",
              "      <td>54.0</td>\n",
              "      <td>Satisfactory</td>\n",
              "    </tr>\n",
              "    <tr>\n",
              "      <th>3551</th>\n",
              "      <td>Mumbai</td>\n",
              "      <td>30-06-20</td>\n",
              "      <td>4.66</td>\n",
              "      <td>13.87</td>\n",
              "      <td>25.25</td>\n",
              "      <td>8.02</td>\n",
              "      <td>33.25</td>\n",
              "      <td>19.89</td>\n",
              "      <td>0.36</td>\n",
              "      <td>13.40</td>\n",
              "      <td>6.94</td>\n",
              "      <td>0.73</td>\n",
              "      <td>NaN</td>\n",
              "      <td>NaN</td>\n",
              "      <td>54.0</td>\n",
              "      <td>Satisfactory</td>\n",
              "    </tr>\n",
              "    <tr>\n",
              "      <th>3552</th>\n",
              "      <td>Mumbai</td>\n",
              "      <td>01-07-20</td>\n",
              "      <td>3.84</td>\n",
              "      <td>11.28</td>\n",
              "      <td>27.64</td>\n",
              "      <td>5.57</td>\n",
              "      <td>33.21</td>\n",
              "      <td>23.60</td>\n",
              "      <td>0.37</td>\n",
              "      <td>13.18</td>\n",
              "      <td>6.68</td>\n",
              "      <td>0.78</td>\n",
              "      <td>NaN</td>\n",
              "      <td>NaN</td>\n",
              "      <td>53.0</td>\n",
              "      <td>Satisfactory</td>\n",
              "    </tr>\n",
              "  </tbody>\n",
              "</table>\n",
              "<p>3553 rows × 16 columns</p>\n",
              "</div>"
            ],
            "text/plain": [
              "        City      Date       0    PM10     NO    NO2    NOx    NH3    CO  \\\n",
              "0      Delhi  01-01-18  303.41  415.09  62.76  63.92  11.79  73.16  1.80   \n",
              "1      Delhi  02-01-18  277.48  422.59  31.26  53.73   4.26  55.61  1.52   \n",
              "2      Delhi  03-01-18  217.01  336.87  37.98  52.24   2.87  50.81  1.29   \n",
              "3      Delhi  04-01-18  248.54  377.61  35.56  61.57   4.24  55.17  1.36   \n",
              "4      Delhi  05-01-18  240.42  360.99  38.73  54.80   4.57  51.36  1.38   \n",
              "...      ...       ...     ...     ...    ...    ...    ...    ...   ...   \n",
              "3548  Mumbai  27-06-20   18.04   63.72  28.29   8.58  36.07  26.69  0.43   \n",
              "3549  Mumbai  28-06-20   12.33   44.84  27.15   8.06  34.78  26.50  0.38   \n",
              "3550  Mumbai  29-06-20    7.88   27.51  26.58   7.94  34.42  23.94  0.38   \n",
              "3551  Mumbai  30-06-20    4.66   13.87  25.25   8.02  33.25  19.89  0.36   \n",
              "3552  Mumbai  01-07-20    3.84   11.28  27.64   5.57  33.21  23.60  0.37   \n",
              "\n",
              "        SO2     O3  Benzene  Toluene  Xylene    AQI    AQI_Bucket  \n",
              "0     18.58  68.75     5.72    14.77    0.24  462.0        Severe  \n",
              "1     12.43  68.68     3.98     9.71    0.27  439.0        Severe  \n",
              "2     10.28  54.94     3.09     6.60    0.21  405.0        Severe  \n",
              "3     14.42  66.31     3.79     8.20    0.39  394.0     Very Poor  \n",
              "4     13.20  48.57     3.63     8.14    0.26  398.0     Very Poor  \n",
              "...     ...    ...      ...      ...     ...    ...           ...  \n",
              "3548  10.36   5.68     0.82      NaN     NaN   64.0  Satisfactory  \n",
              "3549  10.58   5.76     0.85      NaN     NaN   64.0  Satisfactory  \n",
              "3550  11.11   5.84     0.47      NaN     NaN   54.0  Satisfactory  \n",
              "3551  13.40   6.94     0.73      NaN     NaN   54.0  Satisfactory  \n",
              "3552  13.18   6.68     0.78      NaN     NaN   53.0  Satisfactory  \n",
              "\n",
              "[3553 rows x 16 columns]"
            ]
          },
          "execution_count": 7,
          "metadata": {},
          "output_type": "execute_result"
        }
      ]
    },
    {
      "cell_type": "code",
      "metadata": {
        "id": "znhpzUQaEwz8",
        "outputId": "624a451d-1464-4032-baa1-e7b1980f595e"
      },
      "source": [
        "city_aqi_year.info()"
      ],
      "execution_count": null,
      "outputs": [
        {
          "name": "stdout",
          "output_type": "stream",
          "text": [
            "<class 'pandas.core.frame.DataFrame'>\n",
            "RangeIndex: 3553 entries, 0 to 3552\n",
            "Data columns (total 16 columns):\n",
            " #   Column      Non-Null Count  Dtype  \n",
            "---  ------      --------------  -----  \n",
            " 0   City        3553 non-null   object \n",
            " 1   Date        3553 non-null   object \n",
            " 2   0           3369 non-null   float64\n",
            " 3   PM10        2737 non-null   float64\n",
            " 4   NO          3381 non-null   float64\n",
            " 5   NO2         3371 non-null   float64\n",
            " 6   NOx         3524 non-null   float64\n",
            " 7   NH3         3024 non-null   float64\n",
            " 8   CO          3537 non-null   float64\n",
            " 9   SO2         3365 non-null   float64\n",
            " 10  O3          3386 non-null   float64\n",
            " 11  Benzene     3535 non-null   float64\n",
            " 12  Toluene     2751 non-null   float64\n",
            " 13  Xylene      1421 non-null   float64\n",
            " 14  AQI         3355 non-null   float64\n",
            " 15  AQI_Bucket  3355 non-null   object \n",
            "dtypes: float64(13), object(3)\n",
            "memory usage: 444.2+ KB\n"
          ]
        }
      ]
    },
    {
      "cell_type": "code",
      "metadata": {
        "id": "99WMIuylEwz9",
        "outputId": "ae4dee58-cde8-456e-d2d3-aef5265631ea"
      },
      "source": [
        "city_aqi_year.describe()"
      ],
      "execution_count": null,
      "outputs": [
        {
          "data": {
            "text/html": [
              "<div>\n",
              "<style scoped>\n",
              "    .dataframe tbody tr th:only-of-type {\n",
              "        vertical-align: middle;\n",
              "    }\n",
              "\n",
              "    .dataframe tbody tr th {\n",
              "        vertical-align: top;\n",
              "    }\n",
              "\n",
              "    .dataframe thead th {\n",
              "        text-align: right;\n",
              "    }\n",
              "</style>\n",
              "<table border=\"1\" class=\"dataframe\">\n",
              "  <thead>\n",
              "    <tr style=\"text-align: right;\">\n",
              "      <th></th>\n",
              "      <th>0</th>\n",
              "      <th>PM10</th>\n",
              "      <th>NO</th>\n",
              "      <th>NO2</th>\n",
              "      <th>NOx</th>\n",
              "      <th>NH3</th>\n",
              "      <th>CO</th>\n",
              "      <th>SO2</th>\n",
              "      <th>O3</th>\n",
              "      <th>Benzene</th>\n",
              "      <th>Toluene</th>\n",
              "      <th>Xylene</th>\n",
              "      <th>AQI</th>\n",
              "    </tr>\n",
              "  </thead>\n",
              "  <tbody>\n",
              "    <tr>\n",
              "      <th>count</th>\n",
              "      <td>3369.000000</td>\n",
              "      <td>2737.000000</td>\n",
              "      <td>3381.000000</td>\n",
              "      <td>3371.000000</td>\n",
              "      <td>3524.000000</td>\n",
              "      <td>3024.000000</td>\n",
              "      <td>3537.000000</td>\n",
              "      <td>3365.000000</td>\n",
              "      <td>3386.000000</td>\n",
              "      <td>3535.000000</td>\n",
              "      <td>2751.000000</td>\n",
              "      <td>1421.000000</td>\n",
              "      <td>3355.000000</td>\n",
              "    </tr>\n",
              "    <tr>\n",
              "      <th>mean</th>\n",
              "      <td>63.277323</td>\n",
              "      <td>137.166682</td>\n",
              "      <td>24.530571</td>\n",
              "      <td>31.395274</td>\n",
              "      <td>48.249336</td>\n",
              "      <td>33.030572</td>\n",
              "      <td>1.065669</td>\n",
              "      <td>11.465947</td>\n",
              "      <td>34.817221</td>\n",
              "      <td>4.111301</td>\n",
              "      <td>13.491360</td>\n",
              "      <td>1.391851</td>\n",
              "      <td>145.247690</td>\n",
              "    </tr>\n",
              "    <tr>\n",
              "      <th>std</th>\n",
              "      <td>58.859162</td>\n",
              "      <td>105.677003</td>\n",
              "      <td>26.202507</td>\n",
              "      <td>21.390451</td>\n",
              "      <td>38.756161</td>\n",
              "      <td>24.689121</td>\n",
              "      <td>0.578546</td>\n",
              "      <td>6.797656</td>\n",
              "      <td>15.391440</td>\n",
              "      <td>6.644314</td>\n",
              "      <td>16.135128</td>\n",
              "      <td>1.921492</td>\n",
              "      <td>98.825387</td>\n",
              "    </tr>\n",
              "    <tr>\n",
              "      <th>min</th>\n",
              "      <td>3.560000</td>\n",
              "      <td>0.210000</td>\n",
              "      <td>0.470000</td>\n",
              "      <td>2.490000</td>\n",
              "      <td>0.000000</td>\n",
              "      <td>1.330000</td>\n",
              "      <td>0.000000</td>\n",
              "      <td>0.970000</td>\n",
              "      <td>3.360000</td>\n",
              "      <td>0.000000</td>\n",
              "      <td>0.000000</td>\n",
              "      <td>0.000000</td>\n",
              "      <td>26.000000</td>\n",
              "    </tr>\n",
              "    <tr>\n",
              "      <th>25%</th>\n",
              "      <td>25.220000</td>\n",
              "      <td>55.710000</td>\n",
              "      <td>8.390000</td>\n",
              "      <td>15.535000</td>\n",
              "      <td>22.190000</td>\n",
              "      <td>15.292500</td>\n",
              "      <td>0.710000</td>\n",
              "      <td>6.780000</td>\n",
              "      <td>23.900000</td>\n",
              "      <td>0.435000</td>\n",
              "      <td>1.365000</td>\n",
              "      <td>0.180000</td>\n",
              "      <td>76.000000</td>\n",
              "    </tr>\n",
              "    <tr>\n",
              "      <th>50%</th>\n",
              "      <td>45.540000</td>\n",
              "      <td>104.290000</td>\n",
              "      <td>14.450000</td>\n",
              "      <td>24.860000</td>\n",
              "      <td>34.250000</td>\n",
              "      <td>29.355000</td>\n",
              "      <td>0.970000</td>\n",
              "      <td>10.480000</td>\n",
              "      <td>33.345000</td>\n",
              "      <td>1.890000</td>\n",
              "      <td>7.550000</td>\n",
              "      <td>0.710000</td>\n",
              "      <td>107.000000</td>\n",
              "    </tr>\n",
              "    <tr>\n",
              "      <th>75%</th>\n",
              "      <td>78.610000</td>\n",
              "      <td>188.340000</td>\n",
              "      <td>30.570000</td>\n",
              "      <td>42.570000</td>\n",
              "      <td>60.960000</td>\n",
              "      <td>42.330000</td>\n",
              "      <td>1.300000</td>\n",
              "      <td>14.990000</td>\n",
              "      <td>44.027500</td>\n",
              "      <td>4.320000</td>\n",
              "      <td>21.215000</td>\n",
              "      <td>2.100000</td>\n",
              "      <td>184.000000</td>\n",
              "    </tr>\n",
              "    <tr>\n",
              "      <th>max</th>\n",
              "      <td>582.280000</td>\n",
              "      <td>761.910000</td>\n",
              "      <td>202.140000</td>\n",
              "      <td>150.010000</td>\n",
              "      <td>293.100000</td>\n",
              "      <td>219.260000</td>\n",
              "      <td>3.660000</td>\n",
              "      <td>164.370000</td>\n",
              "      <td>159.180000</td>\n",
              "      <td>64.440000</td>\n",
              "      <td>103.000000</td>\n",
              "      <td>21.620000</td>\n",
              "      <td>659.000000</td>\n",
              "    </tr>\n",
              "  </tbody>\n",
              "</table>\n",
              "</div>"
            ],
            "text/plain": [
              "                 0         PM10           NO          NO2          NOx  \\\n",
              "count  3369.000000  2737.000000  3381.000000  3371.000000  3524.000000   \n",
              "mean     63.277323   137.166682    24.530571    31.395274    48.249336   \n",
              "std      58.859162   105.677003    26.202507    21.390451    38.756161   \n",
              "min       3.560000     0.210000     0.470000     2.490000     0.000000   \n",
              "25%      25.220000    55.710000     8.390000    15.535000    22.190000   \n",
              "50%      45.540000   104.290000    14.450000    24.860000    34.250000   \n",
              "75%      78.610000   188.340000    30.570000    42.570000    60.960000   \n",
              "max     582.280000   761.910000   202.140000   150.010000   293.100000   \n",
              "\n",
              "               NH3           CO          SO2           O3      Benzene  \\\n",
              "count  3024.000000  3537.000000  3365.000000  3386.000000  3535.000000   \n",
              "mean     33.030572     1.065669    11.465947    34.817221     4.111301   \n",
              "std      24.689121     0.578546     6.797656    15.391440     6.644314   \n",
              "min       1.330000     0.000000     0.970000     3.360000     0.000000   \n",
              "25%      15.292500     0.710000     6.780000    23.900000     0.435000   \n",
              "50%      29.355000     0.970000    10.480000    33.345000     1.890000   \n",
              "75%      42.330000     1.300000    14.990000    44.027500     4.320000   \n",
              "max     219.260000     3.660000   164.370000   159.180000    64.440000   \n",
              "\n",
              "           Toluene       Xylene          AQI  \n",
              "count  2751.000000  1421.000000  3355.000000  \n",
              "mean     13.491360     1.391851   145.247690  \n",
              "std      16.135128     1.921492    98.825387  \n",
              "min       0.000000     0.000000    26.000000  \n",
              "25%       1.365000     0.180000    76.000000  \n",
              "50%       7.550000     0.710000   107.000000  \n",
              "75%      21.215000     2.100000   184.000000  \n",
              "max     103.000000    21.620000   659.000000  "
            ]
          },
          "execution_count": 9,
          "metadata": {},
          "output_type": "execute_result"
        }
      ]
    },
    {
      "cell_type": "markdown",
      "metadata": {
        "id": "0d7Sbr85Ewz9"
      },
      "source": [
        "Here in this project  of exploratory analysis and visualization  I am exploring  air quality index of metropolitan cities in India on the basis of pollutants like PM10,No,NOx,NH3,CO etc. present in air.\n",
        "The dataframe city_aqi contains 727 rows and 16 columns\n",
        "The  total number of cities under discussion are  4"
      ]
    },
    {
      "cell_type": "code",
      "metadata": {
        "id": "_7qbCxZwEwz9",
        "outputId": "ba011362-a04a-4369-db98-801bfb48d26e"
      },
      "source": [
        "city_aqi_year.nunique()"
      ],
      "execution_count": null,
      "outputs": [
        {
          "data": {
            "text/plain": [
              "City             4\n",
              "Date           913\n",
              "0             2901\n",
              "PM10          2581\n",
              "NO            2334\n",
              "NO2           2549\n",
              "NOx           2802\n",
              "NH3           2412\n",
              "CO             294\n",
              "SO2           1706\n",
              "O3            2518\n",
              "Benzene       1084\n",
              "Toluene       1684\n",
              "Xylene         419\n",
              "AQI            421\n",
              "AQI_Bucket       6\n",
              "dtype: int64"
            ]
          },
          "execution_count": 10,
          "metadata": {},
          "output_type": "execute_result"
        }
      ]
    },
    {
      "cell_type": "markdown",
      "metadata": {
        "id": "_CyQK87yEwz-"
      },
      "source": [
        "Here in this project  of exploratory analysis and visualization  I am exploring  air quality index of metropolitan cities in India on the basis of pollutants like PM10,No,NOx,NH3,CO etc. present in air.\n",
        "The dataframe city_aqi contains 727 rows and 16 columns\n",
        "The  total number of cities under discussion are  4"
      ]
    },
    {
      "cell_type": "markdown",
      "metadata": {
        "id": "DBufjHj5Ewz_"
      },
      "source": [
        "Let's begin by importing`matplotlib.pyplot` and `seaborn`."
      ]
    },
    {
      "cell_type": "code",
      "metadata": {
        "id": "PJQDXdWqEw0A"
      },
      "source": [
        "import seaborn as sns\n",
        "import matplotlib\n",
        "import matplotlib.pyplot as plt\n",
        "%matplotlib inline\n",
        "\n",
        "sns.set_style('darkgrid')\n",
        "matplotlib.rcParams['font.size'] = 14\n",
        "matplotlib.rcParams['figure.figsize'] = (9, 5)\n",
        "matplotlib.rcParams['figure.facecolor'] = '#00000000'"
      ],
      "execution_count": null,
      "outputs": []
    },
    {
      "cell_type": "markdown",
      "metadata": {
        "id": "Uw9j48XFEw0A"
      },
      "source": [
        "A get_AQI_bucket function is defined below for  comparing air quality index ie its good ,bad ,poor  with respect to some numerical  values\n",
        "\n",
        "\n",
        "\n"
      ]
    },
    {
      "cell_type": "code",
      "metadata": {
        "id": "HGwWDftbEw0A"
      },
      "source": [
        "import numpy as np\n",
        "def get_AQI_bucket(x):\n",
        "    if x <= 50:\n",
        "        return \"Good\"\n",
        "    elif x <= 100:\n",
        "        return \"Satisfactory\"\n",
        "    elif x <= 200:\n",
        "        return \"Moderate\"\n",
        "    elif x <= 300:\n",
        "        return \"Poor\"\n",
        "    elif x <= 400:\n",
        "        return \"Very Poor\"\n",
        "    elif x > 400:\n",
        "        return \"Severe\"\n",
        "    else:\n",
        "        return np.NaN\n"
      ],
      "execution_count": null,
      "outputs": []
    },
    {
      "cell_type": "markdown",
      "metadata": {
        "id": "JkHT_BWhEw0A"
      },
      "source": [
        "A column of AQI_bucket is  then inserted in the given data frame which defined that the air quality index is good , Satisfactory,,Moderate,Poor,Very Poor,Severe for the four  metropolitan\n",
        "cities at different date/month of the year  2020 \n"
      ]
    },
    {
      "cell_type": "code",
      "metadata": {
        "id": "cbf04OEvGx4q"
      },
      "source": [
        "city_aqi_year[\"AQI_bucket\"] = city_aqi_year.apply(lambda x: get_AQI_bucket(x['AQI']),axis=1)"
      ],
      "execution_count": null,
      "outputs": []
    },
    {
      "cell_type": "code",
      "metadata": {
        "id": "gKHXpzbHG3-2"
      },
      "source": [
        "city_aqi_year"
      ],
      "execution_count": null,
      "outputs": []
    },
    {
      "cell_type": "code",
      "metadata": {
        "id": "ZOzZSa_CG6mk"
      },
      "source": [
        "city_aqi_year['year'] = pd.DatetimeIndex(city_aqi_year.Date).year\n",
        "city_aqi_year['month'] = pd.DatetimeIndex(city_aqi_year.Date).month\n",
        "city_aqi_year['day'] = pd.DatetimeIndex(city_aqi_year.Date).day\n",
        "city_aqi_year['weekday'] = pd.DatetimeIndex(city_aqi_year.Date).weekday"
      ],
      "execution_count": null,
      "outputs": []
    },
    {
      "cell_type": "code",
      "metadata": {
        "id": "o9GTyT8SG9DQ"
      },
      "source": [
        "city_aqi"
      ],
      "execution_count": null,
      "outputs": []
    },
    {
      "cell_type": "markdown",
      "metadata": {
        "id": "D-56AhNcEw0C"
      },
      "source": [
        "in the above column we parse the value of year, month and week. and then  I analysed the poluttants  value with respect to\n",
        "week , month and year in  the plots given below "
      ]
    },
    {
      "cell_type": "code",
      "metadata": {
        "id": "LVjRmY1HHAlS"
      },
      "source": [
        "#city_aqi_month =city_aqi.groupby('month')[['City', 'Date', 'AQI']].mean()\n",
        "city_aqi_month =city_aqi.groupby('month')[['AQI']].mean()\n",
        "city_aqi_month"
      ],
      "execution_count": null,
      "outputs": []
    },
    {
      "cell_type": "markdown",
      "metadata": {
        "id": "OcVtZKzNEw0C"
      },
      "source": [
        "The  mean value of AQI with respect to each  month has been fetched  , in which it has been analysed that in first month Jan.\n",
        "the Aqi is having higher value 171 which is moderate.\n",
        "and lowest is in  6th month that june which comes under satisfactory condition.\n",
        "AQI values at or below 100 are generally thought of as satisfactory.\n",
        "When AQI values are above 100, air quality is unhealthy: \n"
      ]
    },
    {
      "cell_type": "markdown",
      "metadata": {
        "id": "JilffCifEw0C"
      },
      "source": [
        "Pollutants  = PM10','NO','NO2','NOx','NH3','CO','SO2','O3','Benzene','Toluene','Xylene"
      ]
    },
    {
      "cell_type": "code",
      "metadata": {
        "id": "a9rUIs8iHDAo"
      },
      "source": [
        "pollutant_df =city_aqi.groupby('City')[['PM10','NO','NO2','NOx','NH3','CO','SO2','O3','Benzene','Toluene','Xylene']].mean()\n",
        "pollutant_df"
      ],
      "execution_count": null,
      "outputs": []
    },
    {
      "cell_type": "markdown",
      "metadata": {
        "id": "bGRozFOpEw0D"
      },
      "source": [
        " Here the mean value of  pollutants are categorized  based on cities.\n",
        "The darker colors indicate a higher value  of the particular pollutant in the given cities.  \n",
        "like in Delhi PM10 is very high value as compared to other metropolitan cities, and xylene have the lowest contribution in AQI for all the cities"
      ]
    },
    {
      "cell_type": "code",
      "metadata": {
        "id": "6LA_evWcHFjN"
      },
      "source": [
        "plt.figure(figsize=(8, 6))\n",
        "plt.title(\"City vs Pollutants\")\n",
        "sns.heatmap(pollutant_df,cmap='Reds');"
      ],
      "execution_count": null,
      "outputs": []
    },
    {
      "cell_type": "code",
      "metadata": {
        "id": "Va07ZqdXHHiW"
      },
      "source": [
        "pollutant_month_df =city_aqi_year.groupby('month')[['PM10','NO','NO2','NOx','NH3','CO','SO2','O3','Benzene','Toluene','Xylene']].mean()\n",
        "\n",
        "plt.figure(figsize=(8, 6))\n",
        "plt.title(\"Month vs Pollutants\")\n",
        "sns.heatmap(pollutant_month_df,cmap='Reds');"
      ],
      "execution_count": null,
      "outputs": []
    },
    {
      "cell_type": "markdown",
      "metadata": {
        "id": "RJ0GbgvtEw0E"
      },
      "source": [
        "In the above plot , the mean of pollutants are calculated and visualised according to 12 months .\n",
        "The darker colors indicate a higher value  of pollutant in the given month. \n",
        " As  It is analysed that in the month of Jan. Feb. PM10 has the highest contribution then it decreasing  in 3rd  and 4th month \n",
        "    then slightly incresing in 5th again decresing in 6th then incresing in 7th and 8th  , after that 9th to 11th month is showing \n",
        "    slightly constant value then again slight increse in 12th month like wise  it can be analysed for other months  on the basis of color shade ."
      ]
    },
    {
      "cell_type": "code",
      "metadata": {
        "id": "x4KA2qGLHLZu"
      },
      "source": [
        "pollutant_day_df =city_aqi_year.groupby('day')[['PM10','NO','NO2','NOx','NH3','CO','SO2','O3','Benzene','Toluene','Xylene']].mean()\n",
        "plt.figure(figsize=(8, 6))\n",
        "plt.title(\"Day vs Pollutants\")\n",
        "sns.heatmap(pollutant_day_df,cmap='Reds' );"
      ],
      "execution_count": null,
      "outputs": []
    },
    {
      "cell_type": "code",
      "metadata": {
        "id": "ybxG8cfcHNQc"
      },
      "source": [
        "In the above plot , the mean of pollutants are calculated and visualised according to days in month\n",
        "The darker colors indicate a higher value  of pollutant in the given days"
      ],
      "execution_count": null,
      "outputs": []
    },
    {
      "cell_type": "code",
      "metadata": {
        "id": "nCwVfMEFHPPY"
      },
      "source": [
        "pollutant_weekday_df =city_aqi_year.groupby('weekday')[['PM10','NO','NO2','NOx','NH3','CO','SO2','O3','Benzene','Toluene','Xylene']].mean()\n",
        "pollutant_df\n",
        "plt.figure(figsize=(8, 6))\n",
        "plt.title(\"Weekday vs Pollutants\")\n",
        "sns.heatmap(pollutant_weekday_df,cmap='Reds' );"
      ],
      "execution_count": null,
      "outputs": []
    },
    {
      "cell_type": "markdown",
      "metadata": {
        "id": "6-JZBJHCEw0F"
      },
      "source": [
        "In the above plot , the mean of pollutants are calculated and visualised according to weekdays in month.\n",
        "The darker colors indicate a higher value  of pollutant in the given weekdays. "
      ]
    },
    {
      "cell_type": "code",
      "metadata": {
        "id": "9rgNh72DHSV9"
      },
      "source": [
        "pollutant_year_df =city_aqi_year.groupby('year')[['PM10','NO','NO2','NOx','NH3','CO','SO2','O3','Benzene','Toluene','Xylene']].mean()\n",
        "plt.figure(figsize=(8, 6))\n",
        "plt.title(\"Year vs Pollutants\")\n",
        "sns.heatmap(pollutant_year_df,cmap='Reds'  );"
      ],
      "execution_count": null,
      "outputs": []
    },
    {
      "cell_type": "markdown",
      "metadata": {
        "id": "NE-rlLcLEw0G"
      },
      "source": [
        "In the above plot , the mean of pollutants are calculated and visualised according to year 2020.\n",
        "The darker colors indicate a higher value  of pollutant in the givenyear 2020\n",
        " In year 2020 PM10 has the higher effect on environment"
      ]
    },
    {
      "cell_type": "markdown",
      "metadata": {
        "id": "A_EMqs1iEw0G"
      },
      "source": [
        "Let us save and upload our work to Jovian before continuing"
      ]
    },
    {
      "cell_type": "markdown",
      "metadata": {
        "id": "kMKl8cy2Ew0H"
      },
      "source": [
        "#### Q1: Show the air quality index with respect to months   as scattered plot with considering hue as AQI_Bucket "
      ]
    },
    {
      "cell_type": "code",
      "metadata": {
        "id": "tTjnMlpNEw0H",
        "outputId": "c6099382-45ab-4f0f-d992-b4cc258858f6"
      },
      "source": [
        "plt.figure(figsize=(8, 6))\n",
        "plt.yticks(rotation=75)\n",
        "sns.scatterplot(x=city_aqi.AQI, y=city_aqi.month, hue = city_aqi.AQI_Bucket ,s=100);"
      ],
      "execution_count": null,
      "outputs": [
        {
          "data": {
            "image/png": "[encoded data removed]",
            "text/plain": [
              "<Figure size 576x432 with 1 Axes>"
            ]
          },
          "metadata": {
            "needs_background": "light"
          },
          "output_type": "display_data"
        }
      ]
    },
    {
      "cell_type": "markdown",
      "metadata": {
        "id": "nRb_tG7aEw0I"
      },
      "source": [
        ""
      ]
    },
    {
      "cell_type": "markdown",
      "metadata": {
        "id": "ZAm6da3zEw0I"
      },
      "source": [
        "The above  plot air visualize the air  quality index with respect to months  as scattered plot with considering hue as AQI_Bucket .\n",
        " The AQI_Bucket  indicates the whether quality of air is poor ,good,moderate etc.¶\n",
        "So, It can be easily analysed that in month of Jan.AQI has starting from satisfactory then moderate then poor and then it becomes verty poor,\n",
        "AQI have large value as poor and moderate  AQI and lower value as very poor , sever AQI is only in moth jan and Feb  for other months there is no severity\n",
        "From month 7th to 12th  AQI can be considered   as satifactory."
      ]
    },
    {
      "cell_type": "code",
      "metadata": {
        "id": "cYUC1cHmEw0I",
        "outputId": "7d319dcd-580b-4aba-f89e-c9a6cd528ee6"
      },
      "source": [
        "pollutant_month_df =city_aqi.groupby('month')[['AQI']].mean()\n",
        "\n",
        "plt.figure(figsize=(8, 6))\n",
        "plt.title(\"Month vs AQI\")\n",
        "sns.heatmap(pollutant_month_df,annot=True,cmap='Reds');"
      ],
      "execution_count": null,
      "outputs": [
        {
          "data": {
            "image/png": "[encoded data removed]",
            "text/plain": [
              "<Figure size 576x432 with 2 Axes>"
            ]
          },
          "metadata": {
            "needs_background": "light"
          },
          "output_type": "display_data"
        }
      ]
    },
    {
      "cell_type": "markdown",
      "metadata": {
        "id": "9O7MBbVXEw0I"
      },
      "source": [
        "#### Q2:  plot the air quality index value of  four different metropolitan cities "
      ]
    },
    {
      "cell_type": "code",
      "metadata": {
        "id": "F3OVUd-_Ew0J",
        "outputId": "4ed6f3b3-48b6-40fe-d87e-2d9ee711295d"
      },
      "source": [
        "\n",
        "plt.figure(figsize=(16, 10))\n",
        "plt.xticks(rotation=75)\n",
        "sns.barplot(x='City', y='AQI', data=city_aqi );"
      ],
      "execution_count": null,
      "outputs": [
        {
          "data": {
            "image/png": "[encoded data removed]",
            "text/plain": [
              "<Figure size 1152x720 with 1 Axes>"
            ]
          },
          "metadata": {
            "needs_background": "light"
          },
          "output_type": "display_data"
        }
      ]
    },
    {
      "cell_type": "markdown",
      "metadata": {
        "id": "_IG7XylIEw0J"
      },
      "source": [
        " In the above bar plot the AQI with respect to different cities has been visualised  and it has been analysed that the AQI is maximum for Delhi then for Kolkata, then Mumbai then for Chennai\n",
        "means chennai has good environment with good air to breathing \n",
        "It is around 176 for Delhi ,102 forMumbai,120 for kolkata , less than 100 for chennai"
      ]
    },
    {
      "cell_type": "markdown",
      "metadata": {
        "id": "cbStBVPOEw0J"
      },
      "source": [
        "#### Q3: In the below graph plot the air quality index value with respect to month is graphed\n"
      ]
    },
    {
      "cell_type": "code",
      "metadata": {
        "id": "jbN_uVFjEw0J",
        "outputId": "0b7a4519-f1c9-4bd9-95ec-9e8a0703b92c"
      },
      "source": [
        "plt.figure(figsize=(10, 6))\n",
        "plt.xticks(rotation=60)\n",
        "sns.barplot(x='month', y='AQI', data=city_aqi);"
      ],
      "execution_count": null,
      "outputs": [
        {
          "data": {
            "image/png": "[encoded data removed]",
            "text/plain": [
              "<Figure size 720x432 with 1 Axes>"
            ]
          },
          "metadata": {
            "needs_background": "light"
          },
          "output_type": "display_data"
        }
      ]
    },
    {
      "cell_type": "markdown",
      "metadata": {
        "id": "n0LrCjCEEw0J"
      },
      "source": [
        "In the above  plot the air quality index value with respect to month is graphed.\n",
        "The AQI is maximum in jan and minimum in 6th month\n",
        "First It decreses from Jan to April,then slightly increased for May then gets lower at june and then again incresed upto 12th month"
      ]
    },
    {
      "cell_type": "markdown",
      "metadata": {
        "id": "yo9rKng6Ew0K"
      },
      "source": [
        "#### Q4: combining various plots"
      ]
    },
    {
      "cell_type": "code",
      "metadata": {
        "id": "18gX7IZ8Ew0K"
      },
      "source": [
        "import numpy as np\n",
        "sns.set_style(\"whitegrid\")\n",
        "import matplotlib.pyplot as plt\n",
        "import seaborn as sns\n",
        "%matplotlib inline\n",
        "fig, axes = plt.subplots(2, 3, figsize=(16, 8))\n",
        "#plt.figure(figsize=(20, 6));\n",
        "#fig, (ax1,ax2,ax3) = plt.subplots(1,3 , figsize=(16, 8))\n",
        "axes[0,0].set_title('Month vs City')\n",
        "sns.barplot(x='City', y='month', hue='AQI_bucket', data=city_aqi, ax=axes[0,0]);\n",
        "\n",
        "axes[0,1].set_title('Day vs City')\n",
        "sns.barplot(x='City', y='day', hue='AQI_bucket', data=city_aqi ,ax=axes[0,1]);\n",
        "\n",
        "axes[0,2].set_title('WeekDay vs City')\n",
        "sns.barplot(x='City', y='weekday', hue='AQI_bucket', data=city_aqi, ax=axes[0,2]);\n",
        "\n",
        "axes[1,0].set_title('City vs AQI')\n",
        "plt.xticks(rotation=75)\n",
        "sns.barplot(x='City', y='AQI', data=city_aqi,ax=axes[1,0]);\n",
        "\n",
        "axes[1,1].set_title('Month vs AQI')\n",
        "plt.yticks(rotation=75)\n",
        "sns.scatterplot(x=city_aqi.AQI, y=city_aqi.month, hue = city_aqi.AQI_Bucket ,s=100,ax=axes[1,1]);\n",
        "\n",
        "axes[1,2].set_title('City vs Pollutants')\n",
        "sns.heatmap(pollutant_df,cmap= 'Reds');\n",
        "plt.tight_layout(pad=2);\n",
        "\n",
        "#city_aqi.plot;\n",
        "#plt.hist(flowers_df.sepal_width, bins=np.arange(2, 5, 0.25));\n",
        "#fig, (ax1, ax2) = plt.subplots(1, 2)\n",
        "#fig.suptitle('Horizontally stacked subplots')\n",
        "#ax1.plot(x, y)\n",
        "#ax2.plot(x, -y)"
      ],
      "execution_count": null,
      "outputs": []
    },
    {
      "cell_type": "code",
      "metadata": {
        "id": "oaN_9tImEw0K"
      },
      "source": [
        "city_aqi_year= pd.read_csv('Year_analysis.csv')"
      ],
      "execution_count": null,
      "outputs": []
    },
    {
      "cell_type": "code",
      "metadata": {
        "id": "KFZfCpxaEw0K",
        "outputId": "253a46fd-3985-437f-c20c-120b3c307a71"
      },
      "source": [
        "city_aqi_year"
      ],
      "execution_count": null,
      "outputs": [
        {
          "data": {
            "text/html": [
              "<div>\n",
              "<style scoped>\n",
              "    .dataframe tbody tr th:only-of-type {\n",
              "        vertical-align: middle;\n",
              "    }\n",
              "\n",
              "    .dataframe tbody tr th {\n",
              "        vertical-align: top;\n",
              "    }\n",
              "\n",
              "    .dataframe thead th {\n",
              "        text-align: right;\n",
              "    }\n",
              "</style>\n",
              "<table border=\"1\" class=\"dataframe\">\n",
              "  <thead>\n",
              "    <tr style=\"text-align: right;\">\n",
              "      <th></th>\n",
              "      <th>City</th>\n",
              "      <th>Date</th>\n",
              "      <th>0</th>\n",
              "      <th>PM10</th>\n",
              "      <th>NO</th>\n",
              "      <th>NO2</th>\n",
              "      <th>NOx</th>\n",
              "      <th>NH3</th>\n",
              "      <th>CO</th>\n",
              "      <th>SO2</th>\n",
              "      <th>O3</th>\n",
              "      <th>Benzene</th>\n",
              "      <th>Toluene</th>\n",
              "      <th>Xylene</th>\n",
              "      <th>AQI</th>\n",
              "      <th>AQI_Bucket</th>\n",
              "    </tr>\n",
              "  </thead>\n",
              "  <tbody>\n",
              "    <tr>\n",
              "      <th>0</th>\n",
              "      <td>Delhi</td>\n",
              "      <td>01-01-18</td>\n",
              "      <td>303.41</td>\n",
              "      <td>415.09</td>\n",
              "      <td>62.76</td>\n",
              "      <td>63.92</td>\n",
              "      <td>11.79</td>\n",
              "      <td>73.16</td>\n",
              "      <td>1.80</td>\n",
              "      <td>18.58</td>\n",
              "      <td>68.75</td>\n",
              "      <td>5.72</td>\n",
              "      <td>14.77</td>\n",
              "      <td>0.24</td>\n",
              "      <td>462.0</td>\n",
              "      <td>Severe</td>\n",
              "    </tr>\n",
              "    <tr>\n",
              "      <th>1</th>\n",
              "      <td>Delhi</td>\n",
              "      <td>02-01-18</td>\n",
              "      <td>277.48</td>\n",
              "      <td>422.59</td>\n",
              "      <td>31.26</td>\n",
              "      <td>53.73</td>\n",
              "      <td>4.26</td>\n",
              "      <td>55.61</td>\n",
              "      <td>1.52</td>\n",
              "      <td>12.43</td>\n",
              "      <td>68.68</td>\n",
              "      <td>3.98</td>\n",
              "      <td>9.71</td>\n",
              "      <td>0.27</td>\n",
              "      <td>439.0</td>\n",
              "      <td>Severe</td>\n",
              "    </tr>\n",
              "    <tr>\n",
              "      <th>2</th>\n",
              "      <td>Delhi</td>\n",
              "      <td>03-01-18</td>\n",
              "      <td>217.01</td>\n",
              "      <td>336.87</td>\n",
              "      <td>37.98</td>\n",
              "      <td>52.24</td>\n",
              "      <td>2.87</td>\n",
              "      <td>50.81</td>\n",
              "      <td>1.29</td>\n",
              "      <td>10.28</td>\n",
              "      <td>54.94</td>\n",
              "      <td>3.09</td>\n",
              "      <td>6.60</td>\n",
              "      <td>0.21</td>\n",
              "      <td>405.0</td>\n",
              "      <td>Severe</td>\n",
              "    </tr>\n",
              "    <tr>\n",
              "      <th>3</th>\n",
              "      <td>Delhi</td>\n",
              "      <td>04-01-18</td>\n",
              "      <td>248.54</td>\n",
              "      <td>377.61</td>\n",
              "      <td>35.56</td>\n",
              "      <td>61.57</td>\n",
              "      <td>4.24</td>\n",
              "      <td>55.17</td>\n",
              "      <td>1.36</td>\n",
              "      <td>14.42</td>\n",
              "      <td>66.31</td>\n",
              "      <td>3.79</td>\n",
              "      <td>8.20</td>\n",
              "      <td>0.39</td>\n",
              "      <td>394.0</td>\n",
              "      <td>Very Poor</td>\n",
              "    </tr>\n",
              "    <tr>\n",
              "      <th>4</th>\n",
              "      <td>Delhi</td>\n",
              "      <td>05-01-18</td>\n",
              "      <td>240.42</td>\n",
              "      <td>360.99</td>\n",
              "      <td>38.73</td>\n",
              "      <td>54.80</td>\n",
              "      <td>4.57</td>\n",
              "      <td>51.36</td>\n",
              "      <td>1.38</td>\n",
              "      <td>13.20</td>\n",
              "      <td>48.57</td>\n",
              "      <td>3.63</td>\n",
              "      <td>8.14</td>\n",
              "      <td>0.26</td>\n",
              "      <td>398.0</td>\n",
              "      <td>Very Poor</td>\n",
              "    </tr>\n",
              "    <tr>\n",
              "      <th>...</th>\n",
              "      <td>...</td>\n",
              "      <td>...</td>\n",
              "      <td>...</td>\n",
              "      <td>...</td>\n",
              "      <td>...</td>\n",
              "      <td>...</td>\n",
              "      <td>...</td>\n",
              "      <td>...</td>\n",
              "      <td>...</td>\n",
              "      <td>...</td>\n",
              "      <td>...</td>\n",
              "      <td>...</td>\n",
              "      <td>...</td>\n",
              "      <td>...</td>\n",
              "      <td>...</td>\n",
              "      <td>...</td>\n",
              "    </tr>\n",
              "    <tr>\n",
              "      <th>3548</th>\n",
              "      <td>Mumbai</td>\n",
              "      <td>27-06-20</td>\n",
              "      <td>18.04</td>\n",
              "      <td>63.72</td>\n",
              "      <td>28.29</td>\n",
              "      <td>8.58</td>\n",
              "      <td>36.07</td>\n",
              "      <td>26.69</td>\n",
              "      <td>0.43</td>\n",
              "      <td>10.36</td>\n",
              "      <td>5.68</td>\n",
              "      <td>0.82</td>\n",
              "      <td>NaN</td>\n",
              "      <td>NaN</td>\n",
              "      <td>64.0</td>\n",
              "      <td>Satisfactory</td>\n",
              "    </tr>\n",
              "    <tr>\n",
              "      <th>3549</th>\n",
              "      <td>Mumbai</td>\n",
              "      <td>28-06-20</td>\n",
              "      <td>12.33</td>\n",
              "      <td>44.84</td>\n",
              "      <td>27.15</td>\n",
              "      <td>8.06</td>\n",
              "      <td>34.78</td>\n",
              "      <td>26.50</td>\n",
              "      <td>0.38</td>\n",
              "      <td>10.58</td>\n",
              "      <td>5.76</td>\n",
              "      <td>0.85</td>\n",
              "      <td>NaN</td>\n",
              "      <td>NaN</td>\n",
              "      <td>64.0</td>\n",
              "      <td>Satisfactory</td>\n",
              "    </tr>\n",
              "    <tr>\n",
              "      <th>3550</th>\n",
              "      <td>Mumbai</td>\n",
              "      <td>29-06-20</td>\n",
              "      <td>7.88</td>\n",
              "      <td>27.51</td>\n",
              "      <td>26.58</td>\n",
              "      <td>7.94</td>\n",
              "      <td>34.42</td>\n",
              "      <td>23.94</td>\n",
              "      <td>0.38</td>\n",
              "      <td>11.11</td>\n",
              "      <td>5.84</td>\n",
              "      <td>0.47</td>\n",
              "      <td>NaN</td>\n",
              "      <td>NaN</td>\n",
              "      <td>54.0</td>\n",
              "      <td>Satisfactory</td>\n",
              "    </tr>\n",
              "    <tr>\n",
              "      <th>3551</th>\n",
              "      <td>Mumbai</td>\n",
              "      <td>30-06-20</td>\n",
              "      <td>4.66</td>\n",
              "      <td>13.87</td>\n",
              "      <td>25.25</td>\n",
              "      <td>8.02</td>\n",
              "      <td>33.25</td>\n",
              "      <td>19.89</td>\n",
              "      <td>0.36</td>\n",
              "      <td>13.40</td>\n",
              "      <td>6.94</td>\n",
              "      <td>0.73</td>\n",
              "      <td>NaN</td>\n",
              "      <td>NaN</td>\n",
              "      <td>54.0</td>\n",
              "      <td>Satisfactory</td>\n",
              "    </tr>\n",
              "    <tr>\n",
              "      <th>3552</th>\n",
              "      <td>Mumbai</td>\n",
              "      <td>01-07-20</td>\n",
              "      <td>3.84</td>\n",
              "      <td>11.28</td>\n",
              "      <td>27.64</td>\n",
              "      <td>5.57</td>\n",
              "      <td>33.21</td>\n",
              "      <td>23.60</td>\n",
              "      <td>0.37</td>\n",
              "      <td>13.18</td>\n",
              "      <td>6.68</td>\n",
              "      <td>0.78</td>\n",
              "      <td>NaN</td>\n",
              "      <td>NaN</td>\n",
              "      <td>53.0</td>\n",
              "      <td>Satisfactory</td>\n",
              "    </tr>\n",
              "  </tbody>\n",
              "</table>\n",
              "<p>3553 rows × 16 columns</p>\n",
              "</div>"
            ],
            "text/plain": [
              "        City      Date       0    PM10     NO    NO2    NOx    NH3    CO  \\\n",
              "0      Delhi  01-01-18  303.41  415.09  62.76  63.92  11.79  73.16  1.80   \n",
              "1      Delhi  02-01-18  277.48  422.59  31.26  53.73   4.26  55.61  1.52   \n",
              "2      Delhi  03-01-18  217.01  336.87  37.98  52.24   2.87  50.81  1.29   \n",
              "3      Delhi  04-01-18  248.54  377.61  35.56  61.57   4.24  55.17  1.36   \n",
              "4      Delhi  05-01-18  240.42  360.99  38.73  54.80   4.57  51.36  1.38   \n",
              "...      ...       ...     ...     ...    ...    ...    ...    ...   ...   \n",
              "3548  Mumbai  27-06-20   18.04   63.72  28.29   8.58  36.07  26.69  0.43   \n",
              "3549  Mumbai  28-06-20   12.33   44.84  27.15   8.06  34.78  26.50  0.38   \n",
              "3550  Mumbai  29-06-20    7.88   27.51  26.58   7.94  34.42  23.94  0.38   \n",
              "3551  Mumbai  30-06-20    4.66   13.87  25.25   8.02  33.25  19.89  0.36   \n",
              "3552  Mumbai  01-07-20    3.84   11.28  27.64   5.57  33.21  23.60  0.37   \n",
              "\n",
              "        SO2     O3  Benzene  Toluene  Xylene    AQI    AQI_Bucket  \n",
              "0     18.58  68.75     5.72    14.77    0.24  462.0        Severe  \n",
              "1     12.43  68.68     3.98     9.71    0.27  439.0        Severe  \n",
              "2     10.28  54.94     3.09     6.60    0.21  405.0        Severe  \n",
              "3     14.42  66.31     3.79     8.20    0.39  394.0     Very Poor  \n",
              "4     13.20  48.57     3.63     8.14    0.26  398.0     Very Poor  \n",
              "...     ...    ...      ...      ...     ...    ...           ...  \n",
              "3548  10.36   5.68     0.82      NaN     NaN   64.0  Satisfactory  \n",
              "3549  10.58   5.76     0.85      NaN     NaN   64.0  Satisfactory  \n",
              "3550  11.11   5.84     0.47      NaN     NaN   54.0  Satisfactory  \n",
              "3551  13.40   6.94     0.73      NaN     NaN   54.0  Satisfactory  \n",
              "3552  13.18   6.68     0.78      NaN     NaN   53.0  Satisfactory  \n",
              "\n",
              "[3553 rows x 16 columns]"
            ]
          },
          "execution_count": 89,
          "metadata": {},
          "output_type": "execute_result"
        }
      ]
    },
    {
      "cell_type": "code",
      "metadata": {
        "id": "4dZK-sm2Ew0K"
      },
      "source": [
        "city_aqi_year['year'] = pd.DatetimeIndex(city_aqi_year.Date).year\n",
        "city_aqi_year['month'] = pd.DatetimeIndex(city_aqi_year.Date).month\n",
        "city_aqi_year['day'] = pd.DatetimeIndex(city_aqi_year.Date).day\n",
        "city_aqi_year['weekday'] = pd.DatetimeIndex(city_aqi_year.Date).weekday"
      ],
      "execution_count": null,
      "outputs": []
    },
    {
      "cell_type": "code",
      "metadata": {
        "id": "1h4sJ002Ew0L",
        "outputId": "4b525b15-df14-4138-f53c-964f86d07623"
      },
      "source": [
        "city_aqi_year1 =city_aqi_year.groupby([\"year\", \"City\"]).mean()\n",
        "city_aqi_year1\n"
      ],
      "execution_count": null,
      "outputs": [
        {
          "data": {
            "text/html": [
              "<div>\n",
              "<style scoped>\n",
              "    .dataframe tbody tr th:only-of-type {\n",
              "        vertical-align: middle;\n",
              "    }\n",
              "\n",
              "    .dataframe tbody tr th {\n",
              "        vertical-align: top;\n",
              "    }\n",
              "\n",
              "    .dataframe thead th {\n",
              "        text-align: right;\n",
              "    }\n",
              "</style>\n",
              "<table border=\"1\" class=\"dataframe\">\n",
              "  <thead>\n",
              "    <tr style=\"text-align: right;\">\n",
              "      <th></th>\n",
              "      <th></th>\n",
              "      <th>0</th>\n",
              "      <th>PM10</th>\n",
              "      <th>NO</th>\n",
              "      <th>NO2</th>\n",
              "      <th>NOx</th>\n",
              "      <th>NH3</th>\n",
              "      <th>CO</th>\n",
              "      <th>SO2</th>\n",
              "      <th>O3</th>\n",
              "      <th>Benzene</th>\n",
              "      <th>Toluene</th>\n",
              "      <th>Xylene</th>\n",
              "      <th>AQI</th>\n",
              "      <th>month</th>\n",
              "      <th>day</th>\n",
              "      <th>weekday</th>\n",
              "    </tr>\n",
              "    <tr>\n",
              "      <th>year</th>\n",
              "      <th>City</th>\n",
              "      <th></th>\n",
              "      <th></th>\n",
              "      <th></th>\n",
              "      <th></th>\n",
              "      <th></th>\n",
              "      <th></th>\n",
              "      <th></th>\n",
              "      <th></th>\n",
              "      <th></th>\n",
              "      <th></th>\n",
              "      <th></th>\n",
              "      <th></th>\n",
              "      <th></th>\n",
              "      <th></th>\n",
              "      <th></th>\n",
              "      <th></th>\n",
              "    </tr>\n",
              "  </thead>\n",
              "  <tbody>\n",
              "    <tr>\n",
              "      <th rowspan=\"4\" valign=\"top\">2018</th>\n",
              "      <th>Chennai</th>\n",
              "      <td>52.142740</td>\n",
              "      <td>NaN</td>\n",
              "      <td>11.424932</td>\n",
              "      <td>20.052110</td>\n",
              "      <td>21.626767</td>\n",
              "      <td>59.970712</td>\n",
              "      <td>0.870411</td>\n",
              "      <td>8.985616</td>\n",
              "      <td>28.372356</td>\n",
              "      <td>0.520909</td>\n",
              "      <td>2.749642</td>\n",
              "      <td>NaN</td>\n",
              "      <td>105.490411</td>\n",
              "      <td>6.526027</td>\n",
              "      <td>15.720548</td>\n",
              "      <td>2.991781</td>\n",
              "    </tr>\n",
              "    <tr>\n",
              "      <th>Delhi</th>\n",
              "      <td>115.019397</td>\n",
              "      <td>240.110247</td>\n",
              "      <td>36.496164</td>\n",
              "      <td>45.922521</td>\n",
              "      <td>57.259123</td>\n",
              "      <td>42.397123</td>\n",
              "      <td>1.407068</td>\n",
              "      <td>13.642959</td>\n",
              "      <td>44.372438</td>\n",
              "      <td>3.608219</td>\n",
              "      <td>24.314521</td>\n",
              "      <td>1.054795</td>\n",
              "      <td>249.158904</td>\n",
              "      <td>6.526027</td>\n",
              "      <td>15.720548</td>\n",
              "      <td>2.991781</td>\n",
              "    </tr>\n",
              "    <tr>\n",
              "      <th>Kolkata</th>\n",
              "      <td>72.531611</td>\n",
              "      <td>120.443791</td>\n",
              "      <td>29.758417</td>\n",
              "      <td>44.882158</td>\n",
              "      <td>68.653925</td>\n",
              "      <td>15.506504</td>\n",
              "      <td>0.942030</td>\n",
              "      <td>7.379216</td>\n",
              "      <td>27.004722</td>\n",
              "      <td>5.237245</td>\n",
              "      <td>9.870981</td>\n",
              "      <td>NaN</td>\n",
              "      <td>155.315534</td>\n",
              "      <td>7.500000</td>\n",
              "      <td>16.789474</td>\n",
              "      <td>2.996241</td>\n",
              "    </tr>\n",
              "    <tr>\n",
              "      <th>Mumbai</th>\n",
              "      <td>34.829788</td>\n",
              "      <td>99.848791</td>\n",
              "      <td>36.221071</td>\n",
              "      <td>31.327606</td>\n",
              "      <td>68.862222</td>\n",
              "      <td>NaN</td>\n",
              "      <td>1.572343</td>\n",
              "      <td>19.257197</td>\n",
              "      <td>43.479476</td>\n",
              "      <td>0.767771</td>\n",
              "      <td>0.102807</td>\n",
              "      <td>0.056053</td>\n",
              "      <td>102.612335</td>\n",
              "      <td>6.526027</td>\n",
              "      <td>15.720548</td>\n",
              "      <td>2.991781</td>\n",
              "    </tr>\n",
              "    <tr>\n",
              "      <th rowspan=\"4\" valign=\"top\">2019</th>\n",
              "      <th>Chennai</th>\n",
              "      <td>43.938027</td>\n",
              "      <td>58.513905</td>\n",
              "      <td>8.654493</td>\n",
              "      <td>16.206877</td>\n",
              "      <td>22.722795</td>\n",
              "      <td>40.157599</td>\n",
              "      <td>0.864027</td>\n",
              "      <td>8.168164</td>\n",
              "      <td>35.197479</td>\n",
              "      <td>0.393178</td>\n",
              "      <td>1.417151</td>\n",
              "      <td>NaN</td>\n",
              "      <td>102.942466</td>\n",
              "      <td>6.526027</td>\n",
              "      <td>15.720548</td>\n",
              "      <td>2.994521</td>\n",
              "    </tr>\n",
              "    <tr>\n",
              "      <th>Delhi</th>\n",
              "      <td>108.501479</td>\n",
              "      <td>215.047808</td>\n",
              "      <td>32.114110</td>\n",
              "      <td>45.236027</td>\n",
              "      <td>53.247671</td>\n",
              "      <td>36.401205</td>\n",
              "      <td>1.371616</td>\n",
              "      <td>14.031205</td>\n",
              "      <td>38.941014</td>\n",
              "      <td>3.803808</td>\n",
              "      <td>28.940630</td>\n",
              "      <td>1.141260</td>\n",
              "      <td>232.104110</td>\n",
              "      <td>6.526027</td>\n",
              "      <td>15.720548</td>\n",
              "      <td>2.994521</td>\n",
              "    </tr>\n",
              "    <tr>\n",
              "      <th>Kolkata</th>\n",
              "      <td>68.319452</td>\n",
              "      <td>123.550329</td>\n",
              "      <td>27.366301</td>\n",
              "      <td>43.384795</td>\n",
              "      <td>66.581178</td>\n",
              "      <td>20.214164</td>\n",
              "      <td>0.773534</td>\n",
              "      <td>8.137890</td>\n",
              "      <td>29.150877</td>\n",
              "      <td>15.260877</td>\n",
              "      <td>18.523507</td>\n",
              "      <td>3.318815</td>\n",
              "      <td>143.909589</td>\n",
              "      <td>6.526027</td>\n",
              "      <td>15.720548</td>\n",
              "      <td>2.994521</td>\n",
              "    </tr>\n",
              "    <tr>\n",
              "      <th>Mumbai</th>\n",
              "      <td>34.736849</td>\n",
              "      <td>95.925288</td>\n",
              "      <td>31.810417</td>\n",
              "      <td>23.591861</td>\n",
              "      <td>54.973944</td>\n",
              "      <td>14.064717</td>\n",
              "      <td>1.270907</td>\n",
              "      <td>14.177370</td>\n",
              "      <td>28.868548</td>\n",
              "      <td>2.556630</td>\n",
              "      <td>NaN</td>\n",
              "      <td>NaN</td>\n",
              "      <td>107.950685</td>\n",
              "      <td>6.526027</td>\n",
              "      <td>15.720548</td>\n",
              "      <td>2.994521</td>\n",
              "    </tr>\n",
              "    <tr>\n",
              "      <th rowspan=\"4\" valign=\"top\">2020</th>\n",
              "      <th>Chennai</th>\n",
              "      <td>29.407541</td>\n",
              "      <td>68.324361</td>\n",
              "      <td>8.034044</td>\n",
              "      <td>11.244809</td>\n",
              "      <td>18.213716</td>\n",
              "      <td>45.665628</td>\n",
              "      <td>0.820710</td>\n",
              "      <td>8.582077</td>\n",
              "      <td>38.701257</td>\n",
              "      <td>1.035628</td>\n",
              "      <td>0.041038</td>\n",
              "      <td>NaN</td>\n",
              "      <td>80.251366</td>\n",
              "      <td>4.666667</td>\n",
              "      <td>14.448087</td>\n",
              "      <td>3.000000</td>\n",
              "    </tr>\n",
              "    <tr>\n",
              "      <th>Delhi</th>\n",
              "      <td>80.317978</td>\n",
              "      <td>157.034208</td>\n",
              "      <td>22.692240</td>\n",
              "      <td>33.201749</td>\n",
              "      <td>38.840383</td>\n",
              "      <td>34.106776</td>\n",
              "      <td>1.057760</td>\n",
              "      <td>13.912404</td>\n",
              "      <td>40.649891</td>\n",
              "      <td>2.694645</td>\n",
              "      <td>19.812514</td>\n",
              "      <td>0.867486</td>\n",
              "      <td>181.672131</td>\n",
              "      <td>4.666667</td>\n",
              "      <td>14.448087</td>\n",
              "      <td>3.000000</td>\n",
              "    </tr>\n",
              "    <tr>\n",
              "      <th>Kolkata</th>\n",
              "      <td>47.052568</td>\n",
              "      <td>94.280219</td>\n",
              "      <td>21.992623</td>\n",
              "      <td>28.527650</td>\n",
              "      <td>49.294481</td>\n",
              "      <td>18.855683</td>\n",
              "      <td>0.643005</td>\n",
              "      <td>10.028251</td>\n",
              "      <td>37.997923</td>\n",
              "      <td>10.268142</td>\n",
              "      <td>17.155246</td>\n",
              "      <td>1.698634</td>\n",
              "      <td>117.295082</td>\n",
              "      <td>4.666667</td>\n",
              "      <td>14.448087</td>\n",
              "      <td>3.000000</td>\n",
              "    </tr>\n",
              "    <tr>\n",
              "      <th>Mumbai</th>\n",
              "      <td>36.594317</td>\n",
              "      <td>94.733661</td>\n",
              "      <td>23.074153</td>\n",
              "      <td>22.698852</td>\n",
              "      <td>44.860000</td>\n",
              "      <td>13.575956</td>\n",
              "      <td>0.626776</td>\n",
              "      <td>11.017213</td>\n",
              "      <td>27.381475</td>\n",
              "      <td>4.228251</td>\n",
              "      <td>NaN</td>\n",
              "      <td>NaN</td>\n",
              "      <td>103.568306</td>\n",
              "      <td>4.666667</td>\n",
              "      <td>14.448087</td>\n",
              "      <td>3.000000</td>\n",
              "    </tr>\n",
              "  </tbody>\n",
              "</table>\n",
              "</div>"
            ],
            "text/plain": [
              "                       0        PM10         NO        NO2        NOx  \\\n",
              "year City                                                               \n",
              "2018 Chennai   52.142740         NaN  11.424932  20.052110  21.626767   \n",
              "     Delhi    115.019397  240.110247  36.496164  45.922521  57.259123   \n",
              "     Kolkata   72.531611  120.443791  29.758417  44.882158  68.653925   \n",
              "     Mumbai    34.829788   99.848791  36.221071  31.327606  68.862222   \n",
              "2019 Chennai   43.938027   58.513905   8.654493  16.206877  22.722795   \n",
              "     Delhi    108.501479  215.047808  32.114110  45.236027  53.247671   \n",
              "     Kolkata   68.319452  123.550329  27.366301  43.384795  66.581178   \n",
              "     Mumbai    34.736849   95.925288  31.810417  23.591861  54.973944   \n",
              "2020 Chennai   29.407541   68.324361   8.034044  11.244809  18.213716   \n",
              "     Delhi     80.317978  157.034208  22.692240  33.201749  38.840383   \n",
              "     Kolkata   47.052568   94.280219  21.992623  28.527650  49.294481   \n",
              "     Mumbai    36.594317   94.733661  23.074153  22.698852  44.860000   \n",
              "\n",
              "                    NH3        CO        SO2         O3    Benzene    Toluene  \\\n",
              "year City                                                                       \n",
              "2018 Chennai  59.970712  0.870411   8.985616  28.372356   0.520909   2.749642   \n",
              "     Delhi    42.397123  1.407068  13.642959  44.372438   3.608219  24.314521   \n",
              "     Kolkata  15.506504  0.942030   7.379216  27.004722   5.237245   9.870981   \n",
              "     Mumbai         NaN  1.572343  19.257197  43.479476   0.767771   0.102807   \n",
              "2019 Chennai  40.157599  0.864027   8.168164  35.197479   0.393178   1.417151   \n",
              "     Delhi    36.401205  1.371616  14.031205  38.941014   3.803808  28.940630   \n",
              "     Kolkata  20.214164  0.773534   8.137890  29.150877  15.260877  18.523507   \n",
              "     Mumbai   14.064717  1.270907  14.177370  28.868548   2.556630        NaN   \n",
              "2020 Chennai  45.665628  0.820710   8.582077  38.701257   1.035628   0.041038   \n",
              "     Delhi    34.106776  1.057760  13.912404  40.649891   2.694645  19.812514   \n",
              "     Kolkata  18.855683  0.643005  10.028251  37.997923  10.268142  17.155246   \n",
              "     Mumbai   13.575956  0.626776  11.017213  27.381475   4.228251        NaN   \n",
              "\n",
              "                Xylene         AQI     month        day   weekday  \n",
              "year City                                                          \n",
              "2018 Chennai       NaN  105.490411  6.526027  15.720548  2.991781  \n",
              "     Delhi    1.054795  249.158904  6.526027  15.720548  2.991781  \n",
              "     Kolkata       NaN  155.315534  7.500000  16.789474  2.996241  \n",
              "     Mumbai   0.056053  102.612335  6.526027  15.720548  2.991781  \n",
              "2019 Chennai       NaN  102.942466  6.526027  15.720548  2.994521  \n",
              "     Delhi    1.141260  232.104110  6.526027  15.720548  2.994521  \n",
              "     Kolkata  3.318815  143.909589  6.526027  15.720548  2.994521  \n",
              "     Mumbai        NaN  107.950685  6.526027  15.720548  2.994521  \n",
              "2020 Chennai       NaN   80.251366  4.666667  14.448087  3.000000  \n",
              "     Delhi    0.867486  181.672131  4.666667  14.448087  3.000000  \n",
              "     Kolkata  1.698634  117.295082  4.666667  14.448087  3.000000  \n",
              "     Mumbai        NaN  103.568306  4.666667  14.448087  3.000000  "
            ]
          },
          "execution_count": 98,
          "metadata": {},
          "output_type": "execute_result"
        }
      ]
    },
    {
      "cell_type": "code",
      "metadata": {
        "id": "6Ou3DwpgEw0L",
        "outputId": "150a9a43-225f-4634-f7aa-6c92e2503efe"
      },
      "source": [
        "city_aqi_year2 =city_aqi_year[['year', 'City','AQI']]\n",
        "city_aqi_year2 "
      ],
      "execution_count": null,
      "outputs": [
        {
          "data": {
            "text/html": [
              "<div>\n",
              "<style scoped>\n",
              "    .dataframe tbody tr th:only-of-type {\n",
              "        vertical-align: middle;\n",
              "    }\n",
              "\n",
              "    .dataframe tbody tr th {\n",
              "        vertical-align: top;\n",
              "    }\n",
              "\n",
              "    .dataframe thead th {\n",
              "        text-align: right;\n",
              "    }\n",
              "</style>\n",
              "<table border=\"1\" class=\"dataframe\">\n",
              "  <thead>\n",
              "    <tr style=\"text-align: right;\">\n",
              "      <th></th>\n",
              "      <th>year</th>\n",
              "      <th>City</th>\n",
              "      <th>AQI</th>\n",
              "    </tr>\n",
              "  </thead>\n",
              "  <tbody>\n",
              "    <tr>\n",
              "      <th>0</th>\n",
              "      <td>2018</td>\n",
              "      <td>Delhi</td>\n",
              "      <td>462.0</td>\n",
              "    </tr>\n",
              "    <tr>\n",
              "      <th>1</th>\n",
              "      <td>2018</td>\n",
              "      <td>Delhi</td>\n",
              "      <td>439.0</td>\n",
              "    </tr>\n",
              "    <tr>\n",
              "      <th>2</th>\n",
              "      <td>2018</td>\n",
              "      <td>Delhi</td>\n",
              "      <td>405.0</td>\n",
              "    </tr>\n",
              "    <tr>\n",
              "      <th>3</th>\n",
              "      <td>2018</td>\n",
              "      <td>Delhi</td>\n",
              "      <td>394.0</td>\n",
              "    </tr>\n",
              "    <tr>\n",
              "      <th>4</th>\n",
              "      <td>2018</td>\n",
              "      <td>Delhi</td>\n",
              "      <td>398.0</td>\n",
              "    </tr>\n",
              "    <tr>\n",
              "      <th>...</th>\n",
              "      <td>...</td>\n",
              "      <td>...</td>\n",
              "      <td>...</td>\n",
              "    </tr>\n",
              "    <tr>\n",
              "      <th>3548</th>\n",
              "      <td>2020</td>\n",
              "      <td>Mumbai</td>\n",
              "      <td>64.0</td>\n",
              "    </tr>\n",
              "    <tr>\n",
              "      <th>3549</th>\n",
              "      <td>2020</td>\n",
              "      <td>Mumbai</td>\n",
              "      <td>64.0</td>\n",
              "    </tr>\n",
              "    <tr>\n",
              "      <th>3550</th>\n",
              "      <td>2020</td>\n",
              "      <td>Mumbai</td>\n",
              "      <td>54.0</td>\n",
              "    </tr>\n",
              "    <tr>\n",
              "      <th>3551</th>\n",
              "      <td>2020</td>\n",
              "      <td>Mumbai</td>\n",
              "      <td>54.0</td>\n",
              "    </tr>\n",
              "    <tr>\n",
              "      <th>3552</th>\n",
              "      <td>2020</td>\n",
              "      <td>Mumbai</td>\n",
              "      <td>53.0</td>\n",
              "    </tr>\n",
              "  </tbody>\n",
              "</table>\n",
              "<p>3553 rows × 3 columns</p>\n",
              "</div>"
            ],
            "text/plain": [
              "      year    City    AQI\n",
              "0     2018   Delhi  462.0\n",
              "1     2018   Delhi  439.0\n",
              "2     2018   Delhi  405.0\n",
              "3     2018   Delhi  394.0\n",
              "4     2018   Delhi  398.0\n",
              "...    ...     ...    ...\n",
              "3548  2020  Mumbai   64.0\n",
              "3549  2020  Mumbai   64.0\n",
              "3550  2020  Mumbai   54.0\n",
              "3551  2020  Mumbai   54.0\n",
              "3552  2020  Mumbai   53.0\n",
              "\n",
              "[3553 rows x 3 columns]"
            ]
          },
          "execution_count": 106,
          "metadata": {},
          "output_type": "execute_result"
        }
      ]
    },
    {
      "cell_type": "code",
      "metadata": {
        "id": "iLZp3PZ0Ew0L",
        "outputId": "f6082698-e3bb-484d-8572-f7e2a13d9dae"
      },
      "source": [
        "city_aqi_year2_df =city_aqi_year2.groupby('year')[['AQI']].mean()\n",
        "city_aqi_year2_df\n"
      ],
      "execution_count": null,
      "outputs": [
        {
          "data": {
            "text/html": [
              "<div>\n",
              "<style scoped>\n",
              "    .dataframe tbody tr th:only-of-type {\n",
              "        vertical-align: middle;\n",
              "    }\n",
              "\n",
              "    .dataframe tbody tr th {\n",
              "        vertical-align: top;\n",
              "    }\n",
              "\n",
              "    .dataframe thead th {\n",
              "        text-align: right;\n",
              "    }\n",
              "</style>\n",
              "<table border=\"1\" class=\"dataframe\">\n",
              "  <thead>\n",
              "    <tr style=\"text-align: right;\">\n",
              "      <th></th>\n",
              "      <th>AQI</th>\n",
              "    </tr>\n",
              "    <tr>\n",
              "      <th>year</th>\n",
              "      <th></th>\n",
              "    </tr>\n",
              "  </thead>\n",
              "  <tbody>\n",
              "    <tr>\n",
              "      <th>2018</th>\n",
              "      <td>158.843508</td>\n",
              "    </tr>\n",
              "    <tr>\n",
              "      <th>2019</th>\n",
              "      <td>146.726712</td>\n",
              "    </tr>\n",
              "    <tr>\n",
              "      <th>2020</th>\n",
              "      <td>120.696721</td>\n",
              "    </tr>\n",
              "  </tbody>\n",
              "</table>\n",
              "</div>"
            ],
            "text/plain": [
              "             AQI\n",
              "year            \n",
              "2018  158.843508\n",
              "2019  146.726712\n",
              "2020  120.696721"
            ]
          },
          "execution_count": 129,
          "metadata": {},
          "output_type": "execute_result"
        }
      ]
    },
    {
      "cell_type": "code",
      "metadata": {
        "id": "6pX3ZIJrEw0L"
      },
      "source": [
        "city_aqi_year[\"AQI_bucket\"] = city_aqi_year.apply(lambda x: get_AQI_bucket(x['AQI']),axis=1)"
      ],
      "execution_count": null,
      "outputs": []
    },
    {
      "cell_type": "code",
      "metadata": {
        "id": "0TIqsCQDEw0L",
        "outputId": "9fea11d4-79a9-432e-e7ed-88cc6ea72780"
      },
      "source": [
        "plt.figure(figsize=(8, 6))\n",
        "plt.yticks(rotation=75)\n",
        "plt.title(\"Lockdown affect\")\n",
        "sns.scatterplot(x=city_aqi_year.City, y=city_aqi_year.year, hue = city_aqi_year.AQI_Bucket ,s=100);\n"
      ],
      "execution_count": null,
      "outputs": [
        {
          "data": {
            "image/png": "[encoded data removed]",
            "text/plain": [
              "<Figure size 576x432 with 1 Axes>"
            ]
          },
          "metadata": {
            "needs_background": "light"
          },
          "output_type": "display_data"
        }
      ]
    },
    {
      "cell_type": "markdown",
      "metadata": {
        "id": "t7jxfJX2Ew0M"
      },
      "source": [
        "As we compared the AQI bucket for 2018 t0 2020 for different cities.\n",
        "It has been concluded that  Delhi has moderate AQI in 2020 as compared to 2018 and 2019 .\n",
        "for Kolkata  it goes to good level as compared to 2018 (Poor) and 2019(Very poor)\n",
        " for Chennai it goes to Satisfactory level as compared to 2018 (Satisfactory) and 2019(moderate)\n",
        "    for Mumbai it goes to Satisfactory level as compared to 2018 (Moderate) and 2019(moderate)"
      ]
    },
    {
      "cell_type": "code",
      "metadata": {
        "id": "UUKDYAoCEw0M",
        "outputId": "4fe0f011-7075-4c6f-b92b-813765f495d0"
      },
      "source": [
        "city_aqi_year4 =city_aqi_year2 .groupby('year')[['AQI']].mean()\n",
        "\n",
        "plt.figure(figsize=(8, 6))\n",
        "plt.title(\"Year vs AQI\")\n",
        "sns.heatmap(city_aqi_year4 ,annot=True,cmap='Reds');"
      ],
      "execution_count": null,
      "outputs": [
        {
          "data": {
            "image/png": "[encoded data removed]",
            "text/plain": [
              "<Figure size 576x432 with 2 Axes>"
            ]
          },
          "metadata": {
            "needs_background": "light"
          },
          "output_type": "display_data"
        }
      ]
    },
    {
      "cell_type": "markdown",
      "metadata": {
        "id": "bPXQ4emQEw0M"
      },
      "source": [
        "Again as we compared AQI  with respect to year using heatmap it has been concluded that AQI decresed  all over in 2020 as compared to 2019 and 2018\n",
        "due to lockdown in cities  as Emissions from combustion of gasoline, oil, diesel fuel or wood ,dust from construction sites, landfills and agriculture, wildfires and brush/waste burning, industrial sources, wind that produces much of the PM2. ... PM10 \n",
        " has been reduced in lockdown"
      ]
    },
    {
      "cell_type": "markdown",
      "metadata": {
        "id": "4mxaqZh1Ew0M"
      },
      "source": [
        "#### Q5: Find the City having maximum amount of pollutants and AQI"
      ]
    },
    {
      "cell_type": "markdown",
      "metadata": {
        "id": "PFW-FOqWEw0M"
      },
      "source": [
        "By analysing all the  plots it has been concluded that AQI  in DELHI>KOLKATA>MUMBAI>CHENNAI"
      ]
    },
    {
      "cell_type": "code",
      "metadata": {
        "id": "b324y1p-Ew0M"
      },
      "source": [
        "###  Conclusion \n",
        " By analysing the plots it has been analysed that Delhi has maximum value for AQI and minimum  for chennai.\n",
        " The AQI for Mumbai represents poor condition Air while for Kolkata AQI goes to very poor condition of Air.\n"
      ],
      "execution_count": null,
      "outputs": []
    },
    {
      "cell_type": "code",
      "metadata": {
        "id": "ICiMl_guEw0O"
      },
      "source": [
        ""
      ],
      "execution_count": null,
      "outputs": []
    }
  ]
}